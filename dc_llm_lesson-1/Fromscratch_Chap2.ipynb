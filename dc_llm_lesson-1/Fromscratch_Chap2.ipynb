{
 "cells": [
  {
   "cell_type": "code",
   "execution_count": 21,
   "id": "0f3e579e-2f4c-4911-b412-6bd162414ee5",
   "metadata": {},
   "outputs": [
    {
     "name": "stdout",
     "output_type": "stream",
     "text": [
      "I HAD\n",
      "Word count: 3634\n"
     ]
    }
   ],
   "source": [
    "import urllib3\n",
    "\n",
    "# URL of the text file\n",
    "url = \"https://raw.githubusercontent.com/rasbt/LLMs-from-scratch/main/ch02/01_main-chapter-code/the-verdict.txt\"\n",
    "\n",
    "# Create a PoolManager instance to make requests\n",
    "http = urllib3.PoolManager()\n",
    "\n",
    "# Send a GET request to the URL\n",
    "response = http.request('GET', url)\n",
    "\n",
    "# Check if the request was successful\n",
    "if response.status == 200:\n",
    "    # Get the content of the text file\n",
    "    text_content = response.data.decode('utf-8')\n",
    "    \n",
    "    # Save the text content to a local file\n",
    "    with open(\"the-verdict.txt\", \"w\") as file:\n",
    "        file.write(text_content)\n",
    "else:\n",
    "    print(\"Failed to download the file\")\n",
    "\n",
    "# Further processing (e.g., word count, find specific phrases, etc.)\n",
    "# Example: Count the number of words\n",
    "words = text_content.split()\n",
    "word_count = len(words)\n",
    "print(f\"Word count: {word_count}\")"
   ]
  },
  {
   "cell_type": "code",
   "execution_count": 24,
   "id": "895f501c-6230-4bd6-83a4-0226b549f360",
   "metadata": {},
   "outputs": [
    {
     "name": "stdout",
     "output_type": "stream",
     "text": [
      "Total number of characters 20479\n",
      "I HAD always thought Jack Gisburn rather a cheap genius--though a good fellow enough--so i\n"
     ]
    }
   ],
   "source": [
    "with open(\"the-verdict.txt\", \"r\", encoding=\"utf-8\") as f:\n",
    "    raw_text = f.read()\n",
    "\n",
    "print(\"Total number of characters\", len(raw_text))\n",
    "print(raw_text[:90])"
   ]
  }
 ],
 "metadata": {
  "kernelspec": {
   "display_name": "Python 3 (ipykernel)",
   "language": "python",
   "name": "python3"
  },
  "language_info": {
   "codemirror_mode": {
    "name": "ipython",
    "version": 3
   },
   "file_extension": ".py",
   "mimetype": "text/x-python",
   "name": "python",
   "nbconvert_exporter": "python",
   "pygments_lexer": "ipython3",
   "version": "3.10.13"
  }
 },
 "nbformat": 4,
 "nbformat_minor": 5
}
