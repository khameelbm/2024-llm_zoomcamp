{
 "cells": [
  {
   "cell_type": "markdown",
   "id": "b7ba1d06-cf2e-4bca-bf4b-e761e67ceffe",
   "metadata": {},
   "source": [
    "## Using the transformer pipeline for text classification"
   ]
  },
  {
   "cell_type": "code",
   "execution_count": 4,
   "id": "b623b3c7-5249-452f-8d20-21f75c06e73f",
   "metadata": {},
   "outputs": [],
   "source": [
    "import transformers"
   ]
  },
  {
   "cell_type": "code",
   "execution_count": 5,
   "id": "343657e5-8594-4be3-b029-1b7fdb72dfe5",
   "metadata": {},
   "outputs": [],
   "source": [
    "from transformers import pipeline"
   ]
  },
  {
   "cell_type": "code",
   "execution_count": 5,
   "id": "c957189e-41bb-41de-a0f2-5931873aa021",
   "metadata": {},
   "outputs": [],
   "source": [
    "text_classifier = pipeline(task=\"text-classification\",\n",
    "model=\"nlptown/bert-base-multilingual-uncased-sentiment\")\n",
    "\n"
   ]
  },
  {
   "cell_type": "code",
   "execution_count": 7,
   "id": "cdb1a8a6-82f1-4c4e-a097-813c6db93732",
   "metadata": {},
   "outputs": [],
   "source": [
    "text = \"Dear seller, I got very impressed with the fast delivery and careful packaging\"\n",
    "sentiment = text_classifier(text)"
   ]
  },
  {
   "cell_type": "code",
   "execution_count": 8,
   "id": "59778d0f-f825-4fa3-afd2-6e676a2b5790",
   "metadata": {},
   "outputs": [
    {
     "name": "stdout",
     "output_type": "stream",
     "text": [
      "[{'label': '5 stars', 'score': 0.7578073143959045}]\n"
     ]
    }
   ],
   "source": [
    "print(sentiment)"
   ]
  },
  {
   "cell_type": "markdown",
   "id": "2e0f427d-7a9f-4683-b3ca-8efdb432134b",
   "metadata": {},
   "source": [
    "## Using the transformer pipeline for text summarization"
   ]
  },
  {
   "cell_type": "code",
   "execution_count": 16,
   "id": "83a4f23d-b8b3-49cc-88bd-dfa353c25c5c",
   "metadata": {},
   "outputs": [],
   "source": [
    "from transformers import pipeline\n",
    "\n",
    "model_name = \"cnicu/t5-small-booksum\"\n",
    "\n",
    "summarizer = pipeline(task = \"summarization\", model = model_name)"
   ]
  },
  {
   "cell_type": "code",
   "execution_count": 17,
   "id": "f6271584-abed-4216-88af-332e32c0c9da",
   "metadata": {},
   "outputs": [],
   "source": [
    "long_text = \"\"\"Design is generally an information dense process involving the creation of a wide variety of formalized documents at different levels of technical complexity. This ranges from those tracking the changes in the requirement analysis stage, conceptual design phase, virtual prototyping process, to the management of the manufacturing processes. Due to this, the idea of AI-aided knowledge distillation and representation support for design has become entrenched in recent years.\"\"\""
   ]
  },
  {
   "cell_type": "code",
   "execution_count": 25,
   "id": "fe47c39c-9b5d-472f-8993-5d20d82fc191",
   "metadata": {},
   "outputs": [
    {
     "name": "stdout",
     "output_type": "stream",
     "text": [
      "Design is generally an information dense process involving the creation of a wide variety of formalized documents at different levels of technical complexity. This range\n"
     ]
    }
   ],
   "source": [
    "output = summarizer(long_text, max_length=30)\n",
    "print(output[0]['summary_text'])"
   ]
  },
  {
   "cell_type": "markdown",
   "id": "fe409804-f517-40cf-bf36-d60811087861",
   "metadata": {},
   "source": [
    "## Using the transformer pipeline for question and answering"
   ]
  },
  {
   "cell_type": "code",
   "execution_count": 26,
   "id": "a41959e3-3791-42f5-b76b-321dfa1c3d9e",
   "metadata": {},
   "outputs": [
    {
     "name": "stderr",
     "output_type": "stream",
     "text": [
      "No model was supplied, defaulted to distilbert/distilbert-base-cased-distilled-squad and revision 626af31 (https://huggingface.co/distilbert/distilbert-base-cased-distilled-squad).\n",
      "Using a pipeline without specifying a model name and revision in production is not recommended.\n"
     ]
    },
    {
     "name": "stdout",
     "output_type": "stream",
     "text": [
      "41 years\n"
     ]
    }
   ],
   "source": [
    "# Load the model pipeline for question-answering\n",
    "qa_model = pipeline(task = \"question-answering\")\n",
    "context = \"\"\"The tower is 324 metres (1,063 ft) tall, about the same height as an 81-storey building, and the tallest structure in Paris. Its base is square, measuring 125 metres (410 ft) on each side. During its construction, the Eiffel Tower surpassed the Washington Monument to become the tallest man-made structure in the world, a title it held for 41 years until the Chrysler Building in New York City was finished in 1930. It was the first structure to reach a height of 300 metres. Due to the addition of a broadcasting aerial at the top of the tower in 1957, it is now taller than the Chrysler Building by 5.2 metres (17 ft). \n",
    "Excluding transmitters, the Eiffel Tower is the second tallest free-standing structure in France after the Millau Viaduct.\"\"\"\n",
    "\n",
    "question = \"For how long was the Eiffel Tower the tallest man-made structure in the world?\"\n",
    "\n",
    "# Pass the inputs to the pipeline\n",
    "outputs = qa_model(question = question, context = context)\n",
    "\n",
    "# Access and print the answer\n",
    "print(outputs['answer'])"
   ]
  }
 ],
 "metadata": {
  "kernelspec": {
   "display_name": "Python 3 (ipykernel)",
   "language": "python",
   "name": "python3"
  },
  "language_info": {
   "codemirror_mode": {
    "name": "ipython",
    "version": 3
   },
   "file_extension": ".py",
   "mimetype": "text/x-python",
   "name": "python",
   "nbconvert_exporter": "python",
   "pygments_lexer": "ipython3",
   "version": "3.10.13"
  }
 },
 "nbformat": 4,
 "nbformat_minor": 5
}
